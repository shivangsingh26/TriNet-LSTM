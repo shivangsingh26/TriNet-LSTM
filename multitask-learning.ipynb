{
 "cells": [
  {
   "cell_type": "markdown",
   "metadata": {},
   "source": [
    "## LOAD AND ANALYZE DATASET\n"
   ]
  },
  {
   "cell_type": "code",
   "execution_count": 66,
   "metadata": {},
   "outputs": [],
   "source": [
    "import pandas as pd\n",
    "from sklearn.preprocessing import LabelEncoder"
   ]
  },
  {
   "cell_type": "code",
   "execution_count": 67,
   "metadata": {},
   "outputs": [
    {
     "name": "stdout",
     "output_type": "stream",
     "text": [
      "\n",
      "==================== EMOTION DATASET ====================\n",
      "\n",
      "👉 Shape: (416809, 3)\n",
      "\n",
      "👉 Columns: ['Unnamed: 0', 'text', 'label']\n",
      "\n",
      "👉 Head:\n",
      "   Unnamed: 0                                               text  label\n",
      "0           0      i just feel really helpless and heavy hearted      4\n",
      "1           1  ive enjoyed being able to slouch about relax a...      0\n",
      "2           2  i gave up my internship with the dmrg and am f...      4\n",
      "3           3                         i dont know i feel so lost      0\n",
      "4           4  i am a kindergarten teacher and i am thoroughl...      4\n",
      "\n",
      "==================== VIOLENCE DATASET ====================\n",
      "\n",
      "👉 Shape: (39650, 3)\n",
      "\n",
      "👉 Columns: ['Tweet_ID', 'tweet', 'type']\n",
      "\n",
      "👉 Head:\n",
      "      Tweet_ID                                              tweet  \\\n",
      "0  ID_0022DWKP  Had a dream i got raped last night. By a guy i...   \n",
      "1  ID_00395QYM  he thought the word raped means sex and told m...   \n",
      "2  ID_003EOSSF  She NOT TALKING TO ME I WAS RAPED BY 2 MEN 1 M...   \n",
      "3  ID_004BBHOD  I was sexually abused for 3 years at age 4 to ...   \n",
      "4  ID_004F7516  Chessy Prout can do better by telling the trut...   \n",
      "\n",
      "              type  \n",
      "0  sexual_violence  \n",
      "1  sexual_violence  \n",
      "2  sexual_violence  \n",
      "3  sexual_violence  \n",
      "4  sexual_violence  \n",
      "\n",
      "==================== HATE SPEECH DATASET ====================\n",
      "\n",
      "👉 Shape: (24783, 7)\n",
      "\n",
      "👉 Columns: ['Unnamed: 0', 'count', 'hate_speech', 'offensive_language', 'neither', 'class', 'tweet']\n",
      "\n",
      "👉 Head:\n",
      "   Unnamed: 0  count  hate_speech  offensive_language  neither  class  \\\n",
      "0           0      3            0                   0        3      2   \n",
      "1           1      3            0                   3        0      1   \n",
      "2           2      3            0                   3        0      1   \n",
      "3           3      3            0                   2        1      1   \n",
      "4           4      6            0                   6        0      1   \n",
      "\n",
      "                                               tweet  \n",
      "0  !!! RT @mayasolovely: As a woman you shouldn't...  \n",
      "1  !!!!! RT @mleew17: boy dats cold...tyga dwn ba...  \n",
      "2  !!!!!!! RT @UrKindOfBrand Dawg!!!! RT @80sbaby...  \n",
      "3  !!!!!!!!! RT @C_G_Anderson: @viva_based she lo...  \n",
      "4  !!!!!!!!!!!!! RT @ShenikaRoberts: The shit you...  \n"
     ]
    }
   ],
   "source": [
    "# Load datasets\n",
    "emotion_df = pd.read_csv(\"data/emotions_dataset.csv\")\n",
    "hate_df = pd.read_csv(\"data/hate_speech_dataset.csv\")\n",
    "violence_df = pd.read_csv(\"data/violence_dataset/violence_dataset.csv\")\n",
    "\n",
    "# Function to display dataset info\n",
    "def display_dataset_info(name, df):\n",
    "    print(f\"\\n{'='*20} {name.upper()} DATASET {'='*20}\")\n",
    "    print(f\"\\n👉 Shape: {df.shape}\")\n",
    "    print(f\"\\n👉 Columns: {df.columns.tolist()}\")\n",
    "    print(f\"\\n👉 Head:\\n{df.head()}\")\n",
    "\n",
    "# Display info for each dataset\n",
    "display_dataset_info(\"Emotion\", emotion_df)\n",
    "display_dataset_info(\"Violence\", violence_df)\n",
    "display_dataset_info(\"Hate Speech\", hate_df)\n"
   ]
  },
  {
   "cell_type": "markdown",
   "metadata": {},
   "source": [
    "## DATA PREPROCESSING"
   ]
  },
  {
   "cell_type": "code",
   "execution_count": 68,
   "metadata": {},
   "outputs": [],
   "source": [
    "# Dropping unwanted columns\n",
    "\n",
    "emotion_df.drop(columns=['Unnamed: 0'], inplace=True, errors='ignore')\n",
    "violence_df.drop(columns=['Tweet_ID'], inplace=True, errors='ignore')\n",
    "hate_df = hate_df[['tweet', 'class']] # Didnt use drop as classes to drop were many."
   ]
  },
  {
   "cell_type": "code",
   "execution_count": 69,
   "metadata": {},
   "outputs": [
    {
     "name": "stdout",
     "output_type": "stream",
     "text": [
      "\n",
      "==================== EMOTION DATASET ====================\n",
      "\n",
      "👉 Shape: (416809, 2)\n",
      "\n",
      "👉 Columns: ['text', 'label']\n",
      "\n",
      "👉 Head:\n",
      "                                                text  label\n",
      "0      i just feel really helpless and heavy hearted      4\n",
      "1  ive enjoyed being able to slouch about relax a...      0\n",
      "2  i gave up my internship with the dmrg and am f...      4\n",
      "3                         i dont know i feel so lost      0\n",
      "4  i am a kindergarten teacher and i am thoroughl...      4\n",
      "\n",
      "==================== VIOLENCE DATASET ====================\n",
      "\n",
      "👉 Shape: (39650, 2)\n",
      "\n",
      "👉 Columns: ['tweet', 'type']\n",
      "\n",
      "👉 Head:\n",
      "                                               tweet             type\n",
      "0  Had a dream i got raped last night. By a guy i...  sexual_violence\n",
      "1  he thought the word raped means sex and told m...  sexual_violence\n",
      "2  She NOT TALKING TO ME I WAS RAPED BY 2 MEN 1 M...  sexual_violence\n",
      "3  I was sexually abused for 3 years at age 4 to ...  sexual_violence\n",
      "4  Chessy Prout can do better by telling the trut...  sexual_violence\n",
      "\n",
      "==================== HATE SPEECH DATASET ====================\n",
      "\n",
      "👉 Shape: (24783, 2)\n",
      "\n",
      "👉 Columns: ['tweet', 'class']\n",
      "\n",
      "👉 Head:\n",
      "                                               tweet  class\n",
      "0  !!! RT @mayasolovely: As a woman you shouldn't...      2\n",
      "1  !!!!! RT @mleew17: boy dats cold...tyga dwn ba...      1\n",
      "2  !!!!!!! RT @UrKindOfBrand Dawg!!!! RT @80sbaby...      1\n",
      "3  !!!!!!!!! RT @C_G_Anderson: @viva_based she lo...      1\n",
      "4  !!!!!!!!!!!!! RT @ShenikaRoberts: The shit you...      1\n"
     ]
    }
   ],
   "source": [
    "def display_dataset_info(name, df):\n",
    "    print(f\"\\n{'='*20} {name.upper()} DATASET {'='*20}\")\n",
    "    print(f\"\\n👉 Shape: {df.shape}\")\n",
    "    print(f\"\\n👉 Columns: {df.columns.tolist()}\")\n",
    "    print(f\"\\n👉 Head:\\n{df.head()}\")\n",
    "\n",
    "# Display info for each dataset\n",
    "display_dataset_info(\"Emotion\", emotion_df)\n",
    "display_dataset_info(\"Violence\", violence_df)\n",
    "display_dataset_info(\"Hate Speech\", hate_df)"
   ]
  },
  {
   "cell_type": "markdown",
   "metadata": {},
   "source": [
    "We notice that column names of labels of all datasets are not consistent.."
   ]
  },
  {
   "cell_type": "code",
   "execution_count": 70,
   "metadata": {},
   "outputs": [],
   "source": [
    "#Renaming the columns for consistency\n",
    "#emotion_df already has 'text' and 'label' columns\n",
    "hate_df.rename(columns={'tweet':'text', 'class':'label'}, inplace=True)  \n",
    "violence_df.rename(columns={'tweet': 'text', 'type':'label'}, inplace=True)"
   ]
  },
  {
   "cell_type": "code",
   "execution_count": 71,
   "metadata": {},
   "outputs": [
    {
     "name": "stdout",
     "output_type": "stream",
     "text": [
      "Index(['text', 'label'], dtype='object')\n",
      "Index(['text', 'label'], dtype='object')\n",
      "Index(['text', 'label'], dtype='object')\n"
     ]
    }
   ],
   "source": [
    "print(emotion_df.columns)\n",
    "print(violence_df.columns)\n",
    "print(hate_df.columns)"
   ]
  },
  {
   "cell_type": "markdown",
   "metadata": {},
   "source": [
    "Checking for null values"
   ]
  },
  {
   "cell_type": "code",
   "execution_count": 72,
   "metadata": {},
   "outputs": [
    {
     "data": {
      "text/plain": [
       "(text     0\n",
       " label    0\n",
       " dtype: int64,\n",
       " text     0\n",
       " label    0\n",
       " dtype: int64,\n",
       " text     0\n",
       " label    0\n",
       " dtype: int64)"
      ]
     },
     "execution_count": 72,
     "metadata": {},
     "output_type": "execute_result"
    }
   ],
   "source": [
    "emotion_df.isna().sum() , violence_df.isna().sum(), hate_df.isna().sum()"
   ]
  },
  {
   "cell_type": "markdown",
   "metadata": {},
   "source": [
    "Great!! No null values!!"
   ]
  },
  {
   "cell_type": "code",
   "execution_count": 73,
   "metadata": {},
   "outputs": [
    {
     "data": {
      "text/plain": [
       "((416809, 2), (39650, 2), (24783, 2))"
      ]
     },
     "execution_count": 73,
     "metadata": {},
     "output_type": "execute_result"
    }
   ],
   "source": [
    "emotion_df.shape, violence_df.shape, hate_df.shape"
   ]
  },
  {
   "cell_type": "markdown",
   "metadata": {},
   "source": [
    "We can see that #rows are highly inconsistent here,\n",
    "\n",
    "So we can select 20k rows from each dataset and build 3 new datasets.\n",
    "\n",
    "This rows should be distributed equally among all classes."
   ]
  },
  {
   "cell_type": "code",
   "execution_count": 74,
   "metadata": {},
   "outputs": [
    {
     "data": {
      "text/plain": [
       "(label\n",
       " 1    141067\n",
       " 0    121187\n",
       " 3     57317\n",
       " 4     47712\n",
       " 2     34554\n",
       " 5     14972\n",
       " Name: count, dtype: int64,\n",
       " label\n",
       " sexual_violence                 32648\n",
       " Physical_violence                5946\n",
       " emotional_violence                651\n",
       " economic_violence                 217\n",
       " Harmful_Traditional_practice      188\n",
       " Name: count, dtype: int64,\n",
       " label\n",
       " 1    19190\n",
       " 2     4163\n",
       " 0     1430\n",
       " Name: count, dtype: int64)"
      ]
     },
     "execution_count": 74,
     "metadata": {},
     "output_type": "execute_result"
    }
   ],
   "source": [
    "emotion_df.label.value_counts(), violence_df.label.value_counts(), hate_df.label.value_counts()"
   ]
  },
  {
   "cell_type": "markdown",
   "metadata": {},
   "source": [
    "1. Firstly for Emotions dataset\n"
   ]
  },
  {
   "cell_type": "code",
   "execution_count": 75,
   "metadata": {},
   "outputs": [],
   "source": [
    "e_df = pd.DataFrame()\n",
    "\n",
    "for i in emotion_df.label.unique():\n",
    "    subset = emotion_df[emotion_df.label == i].sample(n=2000, random_state=42) #extracting random 2k rows from each class.\n",
    "    e_df = pd.concat([e_df, subset], ignore_index=True)"
   ]
  },
  {
   "cell_type": "code",
   "execution_count": 76,
   "metadata": {},
   "outputs": [
    {
     "data": {
      "text/plain": [
       "(12000, 2)"
      ]
     },
     "execution_count": 76,
     "metadata": {},
     "output_type": "execute_result"
    }
   ],
   "source": [
    "e_df.shape"
   ]
  },
  {
   "cell_type": "code",
   "execution_count": 77,
   "metadata": {},
   "outputs": [
    {
     "name": "stdout",
     "output_type": "stream",
     "text": [
      "label\n",
      "4    2000\n",
      "0    2000\n",
      "2    2000\n",
      "1    2000\n",
      "5    2000\n",
      "3    2000\n",
      "Name: count, dtype: int64\n"
     ]
    }
   ],
   "source": [
    "emotion_df = e_df.copy()\n",
    "print(emotion_df.label.value_counts())"
   ]
  },
  {
   "cell_type": "markdown",
   "metadata": {},
   "source": [
    "2. Secondly for Violence dataset"
   ]
  },
  {
   "cell_type": "code",
   "execution_count": 78,
   "metadata": {},
   "outputs": [
    {
     "data": {
      "text/plain": [
       "label\n",
       "sexual_violence                 32648\n",
       "Physical_violence                5946\n",
       "emotional_violence                651\n",
       "economic_violence                 217\n",
       "Harmful_Traditional_practice      188\n",
       "Name: count, dtype: int64"
      ]
     },
     "execution_count": 78,
     "metadata": {},
     "output_type": "execute_result"
    }
   ],
   "source": [
    "violence_df.label.value_counts()"
   ]
  },
  {
   "cell_type": "markdown",
   "metadata": {},
   "source": [
    "Since there is a huge imbalance we need to balance it accordingly."
   ]
  },
  {
   "cell_type": "markdown",
   "metadata": {},
   "source": [
    "Since emotional_violence, economic_violence, and political_violence are low frequency classes, \n",
    "\n",
    "we will use all the data for these classes.\n",
    "\n",
    "We will also keep all of physical_violence, \n",
    "\n",
    "and for sexual_violence we will keep 4998 random rows to get the total row count to 12000."
   ]
  },
  {
   "cell_type": "code",
   "execution_count": 79,
   "metadata": {},
   "outputs": [
    {
     "name": "stdout",
     "output_type": "stream",
     "text": [
      "label\n",
      "Physical_violence               5946\n",
      "sexual_violence                 4998\n",
      "emotional_violence               651\n",
      "economic_violence                217\n",
      "Harmful_Traditional_practice     188\n",
      "Name: count, dtype: int64\n"
     ]
    }
   ],
   "source": [
    "#creating new column for 'sexual_violence' to balance the dataset, and appending it to the existing violence_df\n",
    "sexual_violence = violence_df[violence_df.label == 'sexual_violence'].sample(n=4998, random_state=42)\n",
    "violence_df = pd.concat([violence_df[violence_df.label != 'sexual_violence'], sexual_violence], ignore_index=True)\n",
    "print(violence_df.label.value_counts())"
   ]
  },
  {
   "cell_type": "code",
   "execution_count": 80,
   "metadata": {},
   "outputs": [
    {
     "data": {
      "text/plain": [
       "(12000, 2)"
      ]
     },
     "execution_count": 80,
     "metadata": {},
     "output_type": "execute_result"
    }
   ],
   "source": [
    "violence_df.shape"
   ]
  },
  {
   "cell_type": "markdown",
   "metadata": {},
   "source": [
    "3. Lastly for Hate dataframe"
   ]
  },
  {
   "cell_type": "code",
   "execution_count": 81,
   "metadata": {},
   "outputs": [
    {
     "data": {
      "text/plain": [
       "label\n",
       "1    19190\n",
       "2     4163\n",
       "0     1430\n",
       "Name: count, dtype: int64"
      ]
     },
     "execution_count": 81,
     "metadata": {},
     "output_type": "execute_result"
    }
   ],
   "source": [
    "hate_df.label.value_counts()"
   ]
  },
  {
   "cell_type": "markdown",
   "metadata": {},
   "source": [
    "Here also we will take all of 2,0 classes and \n",
    "\n",
    "for 1st class we use 6407 rows to complete the dataset size of 12k"
   ]
  },
  {
   "cell_type": "code",
   "execution_count": 82,
   "metadata": {},
   "outputs": [
    {
     "name": "stdout",
     "output_type": "stream",
     "text": [
      "label\n",
      "1    6407\n",
      "2    4163\n",
      "0    1430\n",
      "Name: count, dtype: int64\n"
     ]
    }
   ],
   "source": [
    "#creating new column for 1 to balance the dataset, and appending it to the existing hate_df\n",
    "\n",
    "offensive_speech = hate_df[hate_df.label == 1].sample(n=6407, random_state=42)\n",
    "hate_df = pd.concat([hate_df[hate_df.label !=1], offensive_speech], ignore_index=True)\n",
    "print(hate_df.label.value_counts())"
   ]
  },
  {
   "cell_type": "code",
   "execution_count": 83,
   "metadata": {},
   "outputs": [
    {
     "data": {
      "text/plain": [
       "((12000, 2), (12000, 2), (12000, 2))"
      ]
     },
     "execution_count": 83,
     "metadata": {},
     "output_type": "execute_result"
    }
   ],
   "source": [
    "emotion_df.shape, violence_df.shape, hate_df.shape"
   ]
  },
  {
   "cell_type": "markdown",
   "metadata": {},
   "source": [
    "Now all our new df shapes are consistent"
   ]
  },
  {
   "cell_type": "markdown",
   "metadata": {},
   "source": [
    "Since we have randomly selected our dataset, their indices are random as well.\n",
    "\n",
    "So we need to reset the indices."
   ]
  },
  {
   "cell_type": "code",
   "execution_count": 84,
   "metadata": {},
   "outputs": [],
   "source": [
    "#Reset index for all datasets\n",
    "emotion_df.reset_index(drop=True, inplace=True)\n",
    "violence_df.reset_index(drop=True, inplace=True)\n",
    "hate_df.reset_index(drop=True, inplace=True)"
   ]
  },
  {
   "cell_type": "code",
   "execution_count": 85,
   "metadata": {},
   "outputs": [
    {
     "name": "stdout",
     "output_type": "stream",
     "text": [
      "\n",
      "==================== EMOTION DATASET ====================\n",
      "\n",
      "👉 Head:\n",
      "                                                text  label\n",
      "0  i feel that it creates a suspicious environmen...      4\n",
      "1               i feel reluctant asking for anything      4\n",
      "2  i am afraid to really show what i feel because...      4\n",
      "3  i think he feels a little helpless in all this...      4\n",
      "4                          i certainly feel tortured      4\n",
      "\n",
      "==================== VIOLENCE DATASET ====================\n",
      "\n",
      "👉 Head:\n",
      "                                                text              label\n",
      "0  My Husband Beats Me Frequently, Wife Tells Cou...  Physical_violence\n",
      "1  Best thing for me to do, is remain silent when...  Physical_violence\n",
      "2  My husband will never beat me, Bambam denies r...  Physical_violence\n",
      "3  theyre like, i just wanna be a baby maker with...  Physical_violence\n",
      "4  I was in England for a week, the longest I’ve ...  Physical_violence\n",
      "\n",
      "==================== HATE SPEECH DATASET ====================\n",
      "\n",
      "👉 Head:\n",
      "                                                text  label\n",
      "0  !!! RT @mayasolovely: As a woman you shouldn't...      2\n",
      "1    \" momma said no pussy cats inside my doghouse \"      2\n",
      "2  \"@Addicted2Guys: -SimplyAddictedToGuys http://...      2\n",
      "3  \"@AllAboutManFeet: http://t.co/3gzUpfuMev\" woo...      2\n",
      "4  \"@Allyhaaaaa: Lemmie eat a Oreo &amp; do these...      2\n"
     ]
    }
   ],
   "source": [
    "# Function to display dataset info\n",
    "def display_dataset_info(name, df):\n",
    "    print(f\"\\n{'='*20} {name.upper()} DATASET {'='*20}\")\n",
    "    # print(f\"\\n👉 Shape: {df.shape}\")\n",
    "    # print(f\"\\n👉 Columns: {df.columns.tolist()}\")\n",
    "    print(f\"\\n👉 Head:\\n{df.head()}\")\n",
    "\n",
    "# Display info for each dataset\n",
    "display_dataset_info(\"Emotion\", emotion_df)\n",
    "display_dataset_info(\"Violence\", violence_df)\n",
    "display_dataset_info(\"Hate Speech\", hate_df)"
   ]
  },
  {
   "cell_type": "markdown",
   "metadata": {},
   "source": [
    "Now the indices are consistent as well.."
   ]
  },
  {
   "cell_type": "markdown",
   "metadata": {},
   "source": [
    "## LABEL ENCODING"
   ]
  },
  {
   "cell_type": "markdown",
   "metadata": {},
   "source": [
    "We dont need encoding for Emotion and Hate Speech Datasets, We only need to do it for Violence dataset"
   ]
  },
  {
   "cell_type": "code",
   "execution_count": 86,
   "metadata": {},
   "outputs": [],
   "source": [
    "label_encoder = LabelEncoder()\n",
    "violence_df['label'] = label_encoder.fit_transform(violence_df['label'])"
   ]
  },
  {
   "cell_type": "code",
   "execution_count": 89,
   "metadata": {},
   "outputs": [
    {
     "data": {
      "text/plain": [
       "label\n",
       "1    5946\n",
       "4    4998\n",
       "3     651\n",
       "2     217\n",
       "0     188\n",
       "Name: count, dtype: int64"
      ]
     },
     "execution_count": 89,
     "metadata": {},
     "output_type": "execute_result"
    }
   ],
   "source": [
    "violence_df['label'].value_counts()"
   ]
  },
  {
   "cell_type": "markdown",
   "metadata": {},
   "source": [
    "Now labels in Violence Dataset have been encoded."
   ]
  },
  {
   "cell_type": "code",
   "execution_count": null,
   "metadata": {},
   "outputs": [],
   "source": []
  }
 ],
 "metadata": {
  "kernelspec": {
   "display_name": "venvTriNetLSTM",
   "language": "python",
   "name": "python3"
  },
  "language_info": {
   "codemirror_mode": {
    "name": "ipython",
    "version": 3
   },
   "file_extension": ".py",
   "mimetype": "text/x-python",
   "name": "python",
   "nbconvert_exporter": "python",
   "pygments_lexer": "ipython3",
   "version": "3.10.14"
  }
 },
 "nbformat": 4,
 "nbformat_minor": 2
}
